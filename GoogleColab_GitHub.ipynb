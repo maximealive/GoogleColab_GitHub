{
  "nbformat": 4,
  "nbformat_minor": 0,
  "metadata": {
    "colab": {
      "name": "GoogleColab_GitHub.ipynb",
      "provenance": [],
      "collapsed_sections": []
    },
    "kernelspec": {
      "name": "python3",
      "display_name": "Python 3"
    }
  },
  "cells": [
    {
      "cell_type": "code",
      "metadata": {
        "id": "S8z8fAd3YBf1",
        "colab_type": "code",
        "colab": {}
      },
      "source": [
        "#!kill -9 -1 .     # <- uncomment if you have some trouble and then\n",
        "                   # comment before run the program again\n",
        "\n",
        "# Run on GPU -> Runtime -> change runtime type -> 'Hardware acelerator' -> GPU\n",
        "%tensorflow_version 2.x\n",
        "\n",
        "import time\n",
        "import os, subprocess\n",
        "\n",
        "# Montar Google Drive y crear carpetas\n",
        "from google.colab import drive\n",
        "drive.mount('/content/gdrive', force_remount=True)\n",
        "\n",
        "work_dir = '/content/work_dir'                    # local working directory(more faster)\n",
        "subprocess.call([\"mkdir\",\"-p\",work_dir])          # make working directory\n",
        "\n",
        "\n",
        "# If the repository it's not present in 'work_dir' -> git clone ...\n",
        "if not os.path.exists(work_dir + '/FAA_Proyecto'):\n",
        "  os.chdir(work_dir)\n",
        "\n",
        "  # Use your github token to donwload repository:\n",
        "  # https://help.github.com/en/github/authenticating-to-github/creating-a-personal-access-token-for-the-command-line\n",
        "  !git clone -l -s https://your_github_TOKEN@github.com/your_username/repository_name.git\n",
        "\n",
        "\n",
        "os.chdir(work_dir + '/repository_name/test')\n",
        "start_time = time.time()\n",
        "\n",
        "# Execute python script\n",
        "!python python_script_name.py\n",
        "\n",
        "# Show execution time\n",
        "print(f'{time.time() - start_time}')"
      ],
      "execution_count": 0,
      "outputs": []
    }
  ]
}